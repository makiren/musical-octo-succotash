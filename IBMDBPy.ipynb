{
  "nbformat": 4,
  "nbformat_minor": 0,
  "metadata": {
    "colab": {
      "name": "SQLPython.ipynb",
      "provenance": [],
      "authorship_tag": "ABX9TyO4LiWf8WUy+kWhJMmlXZsq",
      "include_colab_link": true
    },
    "kernelspec": {
      "name": "python3",
      "display_name": "Python 3"
    }
  },
  "cells": [
    {
      "cell_type": "markdown",
      "metadata": {
        "id": "view-in-github",
        "colab_type": "text"
      },
      "source": [
        "<a href=\"https://colab.research.google.com/github/makiren/musical-octo-succotash/blob/main/IBMDBPy.ipynb\" target=\"_parent\"><img src=\"https://colab.research.google.com/assets/colab-badge.svg\" alt=\"Open In Colab\"/></a>"
      ]
    },
    {
      "cell_type": "markdown",
      "metadata": {
        "id": "HLbNQRC8fo26"
      },
      "source": [
        ""
      ]
    },
    {
      "cell_type": "code",
      "metadata": {
        "colab": {
          "base_uri": "https://localhost:8080/",
          "height": 312
        },
        "id": "QPUp7ET9lSxi",
        "outputId": "31dbd29d-1232-478b-f3ee-f05426828a6f"
      },
      "source": [
        "import ibm_db"
      ],
      "execution_count": 2,
      "outputs": [
        {
          "output_type": "error",
          "ename": "ModuleNotFoundError",
          "evalue": "ignored",
          "traceback": [
            "\u001b[0;31m---------------------------------------------------------------------------\u001b[0m",
            "\u001b[0;31mModuleNotFoundError\u001b[0m                       Traceback (most recent call last)",
            "\u001b[0;32m<ipython-input-2-fe3bb08c8a05>\u001b[0m in \u001b[0;36m<module>\u001b[0;34m()\u001b[0m\n\u001b[0;32m----> 1\u001b[0;31m \u001b[0;32mimport\u001b[0m \u001b[0mibm_db\u001b[0m\u001b[0;34m\u001b[0m\u001b[0;34m\u001b[0m\u001b[0m\n\u001b[0m",
            "\u001b[0;31mModuleNotFoundError\u001b[0m: No module named 'ibm_db'",
            "",
            "\u001b[0;31m---------------------------------------------------------------------------\u001b[0;32m\nNOTE: If your import is failing due to a missing package, you can\nmanually install dependencies using either !pip or !apt.\n\nTo view examples of installing some common dependencies, click the\n\"Open Examples\" button below.\n\u001b[0;31m---------------------------------------------------------------------------\u001b[0m\n"
          ]
        }
      ]
    },
    {
      "cell_type": "code",
      "metadata": {
        "id": "NNC7RBPSlTX1"
      },
      "source": [
        "dsn_hostname = \"dashdb-txn-sbox-yp-dal09-12.services.dal.bluemix.net\" # e.g.: \"dashdb-txn-sbox-yp-dal09-04.services.dal.bluemix.net\"\r\n",
        "dsn_uid = \"kjs24877\"        # e.g. \"abc12345\"\r\n",
        "dsn_pwd = \"b7rlnwd+2swz2s7j\"      # e.g. \"7dBZ3wWt9XN6$o0J\"\r\n",
        "\r\n",
        "dsn_driver = \"{IBM DB2 ODBC DRIVER}\"\r\n",
        "dsn_database = \"BLUDB\"            # e.g. \"BLUDB\"\r\n",
        "dsn_port = \"50000\"                # e.g. \"50000\" \r\n",
        "dsn_protocol = \"TCPIP\"            # i.e. \"TCPIP\""
      ],
      "execution_count": null,
      "outputs": []
    },
    {
      "cell_type": "code",
      "metadata": {
        "id": "clyKCpUzldob"
      },
      "source": [
        "#DO NOT MODIFY THIS CELL. Just RUN it with Shift + Enter\r\n",
        "#Create the dsn connection string\r\n",
        "dsn = (\r\n",
        "    \"DRIVER={0};\"\r\n",
        "    \"DATABASE={1};\"\r\n",
        "    \"HOSTNAME={2};\"\r\n",
        "    \"PORT={3};\"\r\n",
        "    \"PROTOCOL={4};\"\r\n",
        "    \"UID={5};\"\r\n",
        "    \"PWD={6};\").format(dsn_driver, dsn_database, dsn_hostname, dsn_port, dsn_protocol, dsn_uid, dsn_pwd)\r\n",
        "\r\n",
        "#print the connection string to check correct values are specified\r\n",
        "print(dsn)"
      ],
      "execution_count": null,
      "outputs": []
    },
    {
      "cell_type": "code",
      "metadata": {
        "id": "kG3NXM-slfrb"
      },
      "source": [
        "#DO NOT MODIFY THIS CELL. Just RUN it with Shift + Enter\r\n",
        "#Create database connection\r\n",
        "\r\n",
        "try:\r\n",
        "    conn = ibm_db.connect(dsn, \"\", \"\")\r\n",
        "    print (\"Connected to database: \", dsn_database, \"as user: \", dsn_uid, \"on host: \", dsn_hostname)\r\n",
        "\r\n",
        "except:\r\n",
        "    print (\"Unable to connect: \", ibm_db.conn_errormsg() )\r\n"
      ],
      "execution_count": null,
      "outputs": []
    },
    {
      "cell_type": "code",
      "metadata": {
        "id": "tX6ydq6RlmUC"
      },
      "source": [
        "#Retrieve Metadata for the Database Server\r\n",
        "server = ibm_db.server_info(conn)\r\n",
        "\r\n",
        "print (\"DBMS_NAME: \", server.DBMS_NAME)\r\n",
        "print (\"DBMS_VER:  \", server.DBMS_VER)\r\n",
        "print (\"DB_NAME:   \", server.DB_NAME)"
      ],
      "execution_count": null,
      "outputs": []
    },
    {
      "cell_type": "code",
      "metadata": {
        "id": "HhOB2TrAlpwi"
      },
      "source": [
        "#Retrieve Metadata for the Database Client / Driver\r\n",
        "client = ibm_db.client_info(conn)\r\n",
        "\r\n",
        "print (\"DRIVER_NAME:          \", client.DRIVER_NAME) \r\n",
        "print (\"DRIVER_VER:           \", client.DRIVER_VER)\r\n",
        "print (\"DATA_SOURCE_NAME:     \", client.DATA_SOURCE_NAME)\r\n",
        "print (\"DRIVER_ODBC_VER:      \", client.DRIVER_ODBC_VER)\r\n",
        "print (\"ODBC_VER:             \", client.ODBC_VER)\r\n",
        "print (\"ODBC_SQL_CONFORMANCE: \", client.ODBC_SQL_CONFORMANCE)\r\n",
        "print (\"APPL_CODEPAGE:        \", client.APPL_CODEPAGE)\r\n",
        "print (\"CONN_CODEPAGE:        \", client.CONN_CODEPAGE)"
      ],
      "execution_count": null,
      "outputs": []
    },
    {
      "cell_type": "code",
      "metadata": {
        "id": "Yfjf5s-3lt3B"
      },
      "source": [
        "ibm_db.close(conn)"
      ],
      "execution_count": null,
      "outputs": []
    }
  ]
}